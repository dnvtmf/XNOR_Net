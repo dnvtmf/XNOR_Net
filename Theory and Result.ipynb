{
 "cells": [
  {
   "cell_type": "markdown",
   "metadata": {},
   "source": [
    "# XNOR-NET Theory\n",
    "## binarization\n",
    "let\n",
    "$$B = {\\rm sign}(W)$$\n",
    "$$\\alpha = \\frac{1}{n}||W||_{\\ell 1}$$\n",
    "so that $$ W \\approx \\widetilde{W} = B \\alpha$$\n",
    "## gradient\n",
    "$$r1_{|r|\\leq 1} = {\\rm htanh}(x) = {\\rm Clip}(x, -1, 1) = \\max{(-1, \\min{(1, x)})}$$\n",
    "$$\\frac{\\partial {\\rm sign}}{\\partial r} = \\frac{\\partial r1_{|r|\\leq 1}}{\\partial r}=\\left\\{\n",
    "\\begin{array}{ll}\n",
    "1, & -1.0 \\leq x \\leq 1.0 \\\\\n",
    "0, & others\n",
    "\\end{array}\\right.\n",
    "$$\n",
    "$$\\frac{\\partial C}{\\partial W} = \\frac{\\partial C}{\\partial \\widetilde{W}}(\\frac{1}{n}+\\frac{\\partial {\\rm sign}}{\\partial r}\\alpha)$$"
   ]
  },
  {
   "cell_type": "markdown",
   "metadata": {},
   "source": [
    "## Binary Convolution\n",
    "Input tensor $I \\in \\Re^{c \\times w_{in} \\times h_{in}}$  \n",
    "Convolving weight filter $W \\in \\Re^{c \\times w \\times h}$(where $w_{in} >> w, h_{in} >> h$)  \n",
    "Due to overlaps betweens convolutions, compute this:\n",
    "$$A = \\frac{\\sum{I_{:,:,i}}}{c}$$\n",
    "convolve $A$ with a 2D filter $k \\in \\Re^{w \\times h}, K = A \\bigotimes k, where \\forall i,j, k_{i,j}=\\frac{1}{w \\times h}$  \n",
    "so $$I \\bigotimes W \\approx ({\\rm sign}(I) \\bigotimes {\\rm sign}(W)) \\bigodot K \\alpha$$\n",
    "where $\\bigotimes$ is convolution, and $\\bigodot$ is element-wise product"
   ]
  },
  {
   "cell_type": "markdown",
   "metadata": {},
   "source": [
    "## XOR\n",
    "give to two vectors $A, B \\in \\{+1, -1\\}^{n}$, so $A \\times B = n - 2\\sum{a {~\\rm xor~} b}$\n",
    "\n",
    "for example,\n",
    "$$A = \\{-1, 1, -1, 1\\}, B = \\{-1, -1, 1, 1\\}$$\n",
    "$$a = \\{0, 1, 0, 1\\}, b = \\{0, 0, 1, 1\\}$$\n",
    "$$a {~\\rm xor~} b = \\{0, 1, 1, 0\\}$$\n",
    "$$A \\times B = 1 -1 -1 + 1 = 0 = 4 - 2 * 2 = 0$$\n",
    "in C++, $\\sum{a {~\\rm xor~} b}$ can be compute as:\n",
    "```C++\n",
    "unsigned int a, b;//32-bit unsigned integer\n",
    "int result = __builtin_popcount(a ^ b);\n",
    "```\n",
    "or \n",
    "```C++\n",
    "unsigned long long a, b;//64-bit unsigned integer\n",
    "int result = __builltin_popcountll(a ^ b);\n",
    "```"
   ]
  }
 ],
 "metadata": {
  "kernelspec": {
   "display_name": "Python 2",
   "language": "python",
   "name": "python2"
  },
  "language_info": {
   "codemirror_mode": {
    "name": "ipython",
    "version": 2
   },
   "file_extension": ".py",
   "mimetype": "text/x-python",
   "name": "python",
   "nbconvert_exporter": "python",
   "pygments_lexer": "ipython2",
   "version": "2.7.13"
  }
 },
 "nbformat": 4,
 "nbformat_minor": 2
}
